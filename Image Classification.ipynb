{
 "cells": [
  {
   "cell_type": "code",
   "execution_count": null,
   "metadata": {},
   "outputs": [],
   "source": [
    "'''This script goes along the blog post\n",
    "\"Building powerful image classification models using very little data\"\n",
    "from blog.keras.io.\n",
    "It uses data that can be downloaded at:\n",
    "https://www.kaggle.com/c/dogs-vs-cats/data\n",
    "In our setup, we:\n",
    "- created a data/ folder\n",
    "- created train/ and validation/ subfolders inside data/\n",
    "- created cats/ and dogs/ subfolders inside train/ and validation/\n",
    "- put the cat pictures index 0-999 in data/train/cats\n",
    "- put the cat pictures index 1000-1400 in data/validation/cats\n",
    "- put the dogs pictures index 12500-13499 in data/train/dogs\n",
    "- put the dog pictures index 13500-13900 in data/validation/dogs\n",
    "So that we have 1000 training examples for each class, and 400 validation examples for each class.\n",
    "In summary, this is our directory structure:\n",
    "```\n",
    "data/\n",
    "    train/\n",
    "        dogs/\n",
    "            dog001.jpg\n",
    "            dog002.jpg\n",
    "            ...\n",
    "        cats/\n",
    "            cat001.jpg\n",
    "            cat002.jpg\n",
    "            ...\n",
    "    validation/\n",
    "        dogs/\n",
    "            dog001.jpg\n",
    "            dog002.jpg\n",
    "            ...\n",
    "        cats/\n",
    "            cat001.jpg\n",
    "            cat002.jpg\n",
    "            ...\n",
    "```\n",
    "'''"
   ]
  },
  {
   "cell_type": "code",
   "execution_count": 4,
   "metadata": {},
   "outputs": [],
   "source": [
    "from keras.preprocessing.image import ImageDataGenerator\n",
    "from keras.models import Sequential\n",
    "from keras.layers import Conv2D, MaxPooling2D\n",
    "from keras.layers import Activation, Dropout, Flatten, Dense\n",
    "from keras import backend as K\n",
    "\n",
    "\n",
    "# dimensions of our images.\n",
    "img_width, img_height = 150, 150\n",
    "\n",
    "train_data_dir = 'data/train'\n",
    "validation_data_dir = 'data/validation'\n",
    "nb_train_samples = 2000\n",
    "nb_validation_samples = 800\n",
    "epochs = 50\n",
    "batch_size = 16\n",
    "\n",
    "if K.image_data_format() == 'channels_first':\n",
    "    input_shape = (3, img_width, img_height)\n",
    "else:\n",
    "    input_shape = (img_width, img_height, 3)\n",
    "\n",
    "model = Sequential()\n",
    "model.add(Conv2D(32, (3, 3), input_shape=input_shape))\n",
    "model.add(Activation('relu'))\n",
    "model.add(MaxPooling2D(pool_size=(2, 2)))\n",
    "\n",
    "model.add(Conv2D(32, (3, 3)))\n",
    "model.add(Activation('relu'))\n",
    "model.add(MaxPooling2D(pool_size=(2, 2)))\n",
    "\n",
    "model.add(Conv2D(64, (3, 3)))\n",
    "model.add(Activation('relu'))\n",
    "model.add(MaxPooling2D(pool_size=(2, 2)))\n",
    "\n",
    "model.add(Flatten())\n",
    "model.add(Dense(64))\n",
    "model.add(Activation('relu'))\n",
    "model.add(Dropout(0.5))\n",
    "model.add(Dense(1))\n",
    "model.add(Activation('sigmoid'))\n",
    "\n",
    "model.compile(loss='binary_crossentropy',\n",
    "              optimizer='rmsprop',\n",
    "              metrics=['accuracy'])\n"
   ]
  },
  {
   "cell_type": "code",
   "execution_count": 5,
   "metadata": {},
   "outputs": [],
   "source": [
    "# this is the augmentation configuration we will use for training\n",
    "train_datagen = ImageDataGenerator(\n",
    "    rescale=1. / 255,\n",
    "    shear_range=0.2,\n",
    "    zoom_range=0.2,\n",
    "    horizontal_flip=True)"
   ]
  },
  {
   "cell_type": "code",
   "execution_count": 6,
   "metadata": {},
   "outputs": [],
   "source": [
    "# this is the augmentation configuration we will use for testing:\n",
    "# only rescaling\n",
    "test_datagen = ImageDataGenerator(rescale=1. / 255)"
   ]
  },
  {
   "cell_type": "code",
   "execution_count": 7,
   "metadata": {},
   "outputs": [
    {
     "name": "stdout",
     "output_type": "stream",
     "text": [
      "Found 2000 images belonging to 2 classes.\n"
     ]
    }
   ],
   "source": [
    "train_generator = train_datagen.flow_from_directory(\n",
    "    train_data_dir,\n",
    "    target_size=(img_width, img_height),\n",
    "    batch_size=batch_size,\n",
    "    class_mode='binary')"
   ]
  },
  {
   "cell_type": "code",
   "execution_count": 8,
   "metadata": {},
   "outputs": [
    {
     "name": "stdout",
     "output_type": "stream",
     "text": [
      "Found 802 images belonging to 2 classes.\n"
     ]
    }
   ],
   "source": [
    "validation_generator = test_datagen.flow_from_directory(\n",
    "    validation_data_dir,\n",
    "    target_size=(img_width, img_height),\n",
    "    batch_size=batch_size,\n",
    "    class_mode='binary')"
   ]
  },
  {
   "cell_type": "code",
   "execution_count": null,
   "metadata": {},
   "outputs": [
    {
     "name": "stderr",
     "output_type": "stream",
     "text": [
      "WARNING: Logging before flag parsing goes to stderr.\n",
      "W0109 12:42:39.117440 4639126976 deprecation.py:323] From <ipython-input-9-2dedade68c7a>:6: Model.fit_generator (from tensorflow.python.keras.engine.training) is deprecated and will be removed in a future version.\n",
      "Instructions for updating:\n",
      "Please use Model.fit, which supports generators.\n"
     ]
    },
    {
     "name": "stdout",
     "output_type": "stream",
     "text": [
      "Epoch 1/50\n",
      "125/125 [==============================] - 113s 905ms/step - accuracy: 0.5125 - loss: 0.7199 - val_accuracy: 0.5750 - val_loss: 0.6809\n",
      "Epoch 2/50\n",
      "125/125 [==============================] - 74s 592ms/step - accuracy: 0.5815 - loss: 0.6776 - val_accuracy: 0.6575 - val_loss: 0.6403\n",
      "Epoch 3/50\n",
      "125/125 [==============================] - 107s 856ms/step - accuracy: 0.6390 - loss: 0.6505 - val_accuracy: 0.6900 - val_loss: 0.5948\n",
      "Epoch 4/50\n",
      "125/125 [==============================] - 128s 1s/step - accuracy: 0.6770 - loss: 0.6143 - val_accuracy: 0.7013 - val_loss: 0.5649\n",
      "Epoch 5/50\n",
      "125/125 [==============================] - 94s 751ms/step - accuracy: 0.6870 - loss: 0.5974 - val_accuracy: 0.7063 - val_loss: 0.5669\n",
      "Epoch 6/50\n",
      "125/125 [==============================] - 109s 869ms/step - accuracy: 0.7105 - loss: 0.5720 - val_accuracy: 0.7237 - val_loss: 0.5444\n",
      "Epoch 7/50\n",
      "125/125 [==============================] - 81s 651ms/step - accuracy: 0.7305 - loss: 0.5497 - val_accuracy: 0.7275 - val_loss: 0.5586\n",
      "Epoch 8/50\n",
      "125/125 [==============================] - 84s 670ms/step - accuracy: 0.7505 - loss: 0.5208 - val_accuracy: 0.6538 - val_loss: 0.6052\n",
      "Epoch 9/50\n",
      "125/125 [==============================] - 110s 880ms/step - accuracy: 0.7490 - loss: 0.5269 - val_accuracy: 0.7412 - val_loss: 0.5526\n",
      "Epoch 10/50\n",
      "125/125 [==============================] - 111s 890ms/step - accuracy: 0.7500 - loss: 0.5026 - val_accuracy: 0.7400 - val_loss: 0.5624\n",
      "Epoch 11/50\n",
      "125/125 [==============================] - 100s 803ms/step - accuracy: 0.7630 - loss: 0.5041 - val_accuracy: 0.7175 - val_loss: 0.5743\n",
      "Epoch 12/50\n",
      "125/125 [==============================] - 96s 766ms/step - accuracy: 0.7795 - loss: 0.4848 - val_accuracy: 0.7525 - val_loss: 0.5017\n",
      "Epoch 13/50\n",
      "125/125 [==============================] - 91s 725ms/step - accuracy: 0.7765 - loss: 0.4709 - val_accuracy: 0.6513 - val_loss: 0.8522\n",
      "Epoch 14/50\n",
      "125/125 [==============================] - 91s 725ms/step - accuracy: 0.7845 - loss: 0.4782 - val_accuracy: 0.7625 - val_loss: 0.5641\n",
      "Epoch 15/50\n",
      "125/125 [==============================] - 83s 665ms/step - accuracy: 0.7810 - loss: 0.4606 - val_accuracy: 0.7962 - val_loss: 0.4612\n",
      "Epoch 16/50\n",
      "125/125 [==============================] - 81s 644ms/step - accuracy: 0.7890 - loss: 0.4600 - val_accuracy: 0.7513 - val_loss: 0.5224\n",
      "Epoch 17/50\n",
      "125/125 [==============================] - 79s 628ms/step - accuracy: 0.7915 - loss: 0.4588 - val_accuracy: 0.7212 - val_loss: 0.5429\n",
      "Epoch 18/50\n",
      "125/125 [==============================] - 87s 699ms/step - accuracy: 0.7800 - loss: 0.4596 - val_accuracy: 0.7912 - val_loss: 0.4972\n",
      "Epoch 19/50\n",
      "125/125 [==============================] - 141s 1s/step - accuracy: 0.7940 - loss: 0.4600 - val_accuracy: 0.7800 - val_loss: 0.4734\n",
      "Epoch 20/50\n",
      "125/125 [==============================] - 83s 667ms/step - accuracy: 0.8020 - loss: 0.4308 - val_accuracy: 0.7400 - val_loss: 0.5187\n",
      "Epoch 21/50\n",
      "125/125 [==============================] - 78s 627ms/step - accuracy: 0.7960 - loss: 0.4397 - val_accuracy: 0.7800 - val_loss: 0.4723\n",
      "Epoch 22/50\n",
      "125/125 [==============================] - 111s 885ms/step - accuracy: 0.8080 - loss: 0.4273 - val_accuracy: 0.7725 - val_loss: 0.5635\n",
      "Epoch 23/50\n",
      "125/125 [==============================] - 106s 845ms/step - accuracy: 0.8075 - loss: 0.4413 - val_accuracy: 0.7912 - val_loss: 0.4626\n",
      "Epoch 24/50\n",
      "125/125 [==============================] - 102s 816ms/step - accuracy: 0.8155 - loss: 0.4357 - val_accuracy: 0.7563 - val_loss: 0.5362\n",
      "Epoch 25/50\n",
      "125/125 [==============================] - 98s 782ms/step - accuracy: 0.8110 - loss: 0.4154 - val_accuracy: 0.7987 - val_loss: 0.4541\n",
      "Epoch 26/50\n",
      "125/125 [==============================] - 99s 795ms/step - accuracy: 0.8095 - loss: 0.4206 - val_accuracy: 0.7788 - val_loss: 0.5434\n",
      "Epoch 27/50\n",
      "125/125 [==============================] - 109s 871ms/step - accuracy: 0.8300 - loss: 0.3997 - val_accuracy: 0.8025 - val_loss: 0.4768\n",
      "Epoch 28/50\n",
      "125/125 [==============================] - 97s 776ms/step - accuracy: 0.8305 - loss: 0.4287 - val_accuracy: 0.7638 - val_loss: 0.6626\n",
      "Epoch 29/50\n",
      "125/125 [==============================] - 115s 920ms/step - accuracy: 0.8325 - loss: 0.4048 - val_accuracy: 0.7887 - val_loss: 0.4751\n",
      "Epoch 30/50\n",
      "125/125 [==============================] - 118s 947ms/step - accuracy: 0.8245 - loss: 0.4034 - val_accuracy: 0.7725 - val_loss: 0.5569\n",
      "Epoch 31/50\n",
      "125/125 [==============================] - 81s 644ms/step - accuracy: 0.8185 - loss: 0.4020 - val_accuracy: 0.8037 - val_loss: 0.4828\n",
      "Epoch 32/50\n",
      "125/125 [==============================] - 77s 618ms/step - accuracy: 0.8255 - loss: 0.4267 - val_accuracy: 0.7650 - val_loss: 0.6459\n",
      "Epoch 33/50\n",
      "125/125 [==============================] - 66s 531ms/step - accuracy: 0.8175 - loss: 0.4240 - val_accuracy: 0.7487 - val_loss: 0.6803\n",
      "Epoch 34/50\n",
      "125/125 [==============================] - 83s 663ms/step - accuracy: 0.8375 - loss: 0.3939 - val_accuracy: 0.7987 - val_loss: 0.4889\n",
      "Epoch 35/50\n",
      "125/125 [==============================] - 68s 543ms/step - accuracy: 0.8310 - loss: 0.3978 - val_accuracy: 0.7688 - val_loss: 0.5452\n",
      "Epoch 36/50\n",
      "125/125 [==============================] - 69s 553ms/step - accuracy: 0.8090 - loss: 0.4343 - val_accuracy: 0.7437 - val_loss: 0.5618\n",
      "Epoch 37/50\n",
      "125/125 [==============================] - 98s 784ms/step - accuracy: 0.8210 - loss: 0.4256 - val_accuracy: 0.7900 - val_loss: 0.4892\n",
      "Epoch 38/50\n",
      "125/125 [==============================] - 108s 865ms/step - accuracy: 0.8275 - loss: 0.4196 - val_accuracy: 0.7763 - val_loss: 0.6259\n",
      "Epoch 39/50\n",
      "125/125 [==============================] - 128s 1s/step - accuracy: 0.8255 - loss: 0.3952 - val_accuracy: 0.7638 - val_loss: 0.6145\n",
      "Epoch 40/50\n",
      "125/125 [==============================] - 156s 1s/step - accuracy: 0.8365 - loss: 0.4044 - val_accuracy: 0.7638 - val_loss: 0.5365\n",
      "Epoch 41/50\n",
      "125/125 [==============================] - 82s 655ms/step - accuracy: 0.8400 - loss: 0.3942 - val_accuracy: 0.7887 - val_loss: 0.4831\n",
      "Epoch 42/50\n",
      " 39/125 [========>.....................] - ETA: 45s - accuracy: 0.8205 - loss: 0.4014"
     ]
    }
   ],
   "source": [
    "model.fit_generator(\n",
    "    train_generator,\n",
    "    steps_per_epoch=nb_train_samples // batch_size,\n",
    "    epochs=epochs,\n",
    "    validation_data=validation_generator,\n",
    "    validation_steps=nb_validation_samples // batch_size)"
   ]
  },
  {
   "cell_type": "code",
   "execution_count": null,
   "metadata": {},
   "outputs": [],
   "source": [
    "model.save_weights('first_try.h5')"
   ]
  }
 ],
 "metadata": {
  "kernelspec": {
   "display_name": "Python 3",
   "language": "python",
   "name": "python3"
  },
  "language_info": {
   "codemirror_mode": {
    "name": "ipython",
    "version": 3
   },
   "file_extension": ".py",
   "mimetype": "text/x-python",
   "name": "python",
   "nbconvert_exporter": "python",
   "pygments_lexer": "ipython3",
   "version": "3.5.6"
  }
 },
 "nbformat": 4,
 "nbformat_minor": 4
}
